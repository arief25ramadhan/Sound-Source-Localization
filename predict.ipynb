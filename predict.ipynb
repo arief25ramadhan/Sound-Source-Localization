{
 "cells": [
  {
   "cell_type": "code",
   "execution_count": 1,
   "metadata": {},
   "outputs": [
    {
     "name": "stderr",
     "output_type": "stream",
     "text": [
      "Using TensorFlow backend.\n"
     ]
    }
   ],
   "source": [
    "import pickle\n",
    "import os\n",
    "import numpy as np\n",
    "from tqdm import tqdm\n",
    "from scipy.io import wavfile\n",
    "from python_speech_features import mfcc\n",
    "from keras.models import load_model\n",
    "import pandas as pd\n",
    "from sklearn.metrics import accuracy_score"
   ]
  },
  {
   "cell_type": "code",
   "execution_count": 2,
   "metadata": {},
   "outputs": [],
   "source": [
    "def build_predictions(audio_dir):\n",
    "    y_true = []\n",
    "    y_pred = []\n",
    "    fn_prob = {}\n",
    "    \n",
    "    print('Extracting features from audio')\n",
    "    for fn in tqdm(os.listdir(audio_dir)):\n",
    "        rate, wav = wavfile.read(os.path.join(audio_dir, fn))\n",
    "        label = fn2class[fn]\n",
    "        c = classes.index(label)\n",
    "        y_prob = []\n",
    "        \n",
    "        for i in range(0,wav.shape[0]-config.step, config.step):\n",
    "            sample = wav[i:i+config.step]\n",
    "            X =  mfcc(sample, rate,numcep=config.nfeat, \n",
    "                      nfilt=config.nfilt, nfft=config.nfft)\n",
    "            X = (X - config.min)/(config.max - config.min)\n",
    "            \n",
    "            if config.mode == 'conv':\n",
    "                X = X.reshape(1, X.shape[0], X.shape[1], 1)\n",
    "            elif config.mode == 'time':\n",
    "                X = np.expand_dims(X, axis=0)\n",
    "            elif config.mode == 'mlp':\n",
    "                X = np.expand_dims(X, axis=0)\n",
    "            y_hat = model.predict(X)\n",
    "            y_prob.append(y_hat)\n",
    "            y_pred.append(np.argmax(y_hat))\n",
    "            y_true.append(c)\n",
    "            \n",
    "        fn_prob[fn] = np.mean(y_prob, axis=0).flatten()\n",
    "    \n",
    "    return y_true, y_pred, fn_prob"
   ]
  },
  {
   "cell_type": "code",
   "execution_count": 3,
   "metadata": {},
   "outputs": [
    {
     "name": "stdout",
     "output_type": "stream",
     "text": [
      "WARNING:tensorflow:From C:\\Users\\hp\\Anaconda3\\lib\\site-packages\\tensorflow\\python\\framework\\op_def_library.py:263: colocate_with (from tensorflow.python.framework.ops) is deprecated and will be removed in a future version.\n",
      "Instructions for updating:\n",
      "Colocations handled automatically by placer.\n",
      "WARNING:tensorflow:From C:\\Users\\hp\\Anaconda3\\lib\\site-packages\\keras\\backend\\tensorflow_backend.py:3445: calling dropout (from tensorflow.python.ops.nn_ops) with keep_prob is deprecated and will be removed in a future version.\n",
      "Instructions for updating:\n",
      "Please use `rate` instead of `keep_prob`. Rate should be set to `rate = 1 - keep_prob`.\n",
      "WARNING:tensorflow:From C:\\Users\\hp\\Anaconda3\\lib\\site-packages\\tensorflow\\python\\ops\\math_ops.py:3066: to_int32 (from tensorflow.python.ops.math_ops) is deprecated and will be removed in a future version.\n",
      "Instructions for updating:\n",
      "Use tf.cast instead.\n"
     ]
    }
   ],
   "source": [
    "df = pd.read_csv('C:/Users/hp/Desktop/Audio-Classification-v5/train_sound.csv')\n",
    "classes = list(np.unique(df.label))\n",
    "fn2class = dict(zip(df.fname, df.label))\n",
    "p_path = os.path.join('pickles','mlp.p')\n",
    "\n",
    "with open(p_path, 'rb') as handle:\n",
    "    config = pickle.load(handle)\n",
    "    \n",
    "model = load_model(config.model_path)"
   ]
  },
  {
   "cell_type": "code",
   "execution_count": 4,
   "metadata": {},
   "outputs": [
    {
     "name": "stdout",
     "output_type": "stream",
     "text": [
      "Extracting features from audio\n"
     ]
    },
    {
     "name": "stderr",
     "output_type": "stream",
     "text": [
      "100%|██████████████████████████████████████| 2700/2700 [03:50<00:00, 12.84it/s]\n"
     ]
    }
   ],
   "source": [
    "y_true, y_pred, fn_prob = build_predictions('C:/Users/hp/Desktop/Audio-Classification-v5/train_files')  #interchangeable wavfiles/clean\n",
    "acc_score = accuracy_score(y_true=y_true, y_pred=y_pred)"
   ]
  },
  {
   "cell_type": "code",
   "execution_count": 5,
   "metadata": {},
   "outputs": [
    {
     "name": "stdout",
     "output_type": "stream",
     "text": [
      "0.8268724279835391\n"
     ]
    }
   ],
   "source": [
    "print(acc_score)"
   ]
  },
  {
   "cell_type": "code",
   "execution_count": 21,
   "metadata": {
    "scrolled": true
   },
   "outputs": [],
   "source": [
    "y_probs = []\n",
    "\n",
    "for i, row in df.iterrows():\n",
    "    y_prob = fn_prob[row.fname]\n",
    "    y_probs.append(y_prob)\n",
    "    for c, p in zip(classes, y_prob):\n",
    "        df.at[i, c] = p\n",
    "\n",
    "y_pred = [classes[np.argmax(y)] for y in y_probs]\n",
    "df['y_pred'] = y_pred \n",
    "\n",
    "df.to_csv('mlp_prediction.csv', index=False)"
   ]
  },
  {
   "cell_type": "code",
   "execution_count": null,
   "metadata": {},
   "outputs": [],
   "source": []
  }
 ],
 "metadata": {
  "kernelspec": {
   "display_name": "Python 3",
   "language": "python",
   "name": "python3"
  },
  "language_info": {
   "codemirror_mode": {
    "name": "ipython",
    "version": 3
   },
   "file_extension": ".py",
   "mimetype": "text/x-python",
   "name": "python",
   "nbconvert_exporter": "python",
   "pygments_lexer": "ipython3",
   "version": "3.7.3"
  }
 },
 "nbformat": 4,
 "nbformat_minor": 2
}
